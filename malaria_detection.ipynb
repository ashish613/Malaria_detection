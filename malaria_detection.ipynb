{
  "nbformat": 4,
  "nbformat_minor": 0,
  "metadata": {
    "colab": {
      "name": "Untitled0.ipynb",
      "provenance": [],
      "authorship_tag": "ABX9TyN7tNWnnl8TRWT7UG1zPD37",
      "include_colab_link": true
    },
    "kernelspec": {
      "name": "python3",
      "display_name": "Python 3"
    },
    "accelerator": "GPU"
  },
  "cells": [
    {
      "cell_type": "markdown",
      "metadata": {
        "id": "view-in-github",
        "colab_type": "text"
      },
      "source": [
        "<a href=\"https://colab.research.google.com/github/ashish613/Malria_detection/blob/main/malaria_detection.ipynb\" target=\"_parent\"><img src=\"https://colab.research.google.com/assets/colab-badge.svg\" alt=\"Open In Colab\"/></a>"
      ]
    },
    {
      "cell_type": "markdown",
      "metadata": {
        "id": "_IbuA3OELsx6"
      },
      "source": [
        "code to mount the drive to google colab"
      ]
    },
    {
      "cell_type": "code",
      "metadata": {
        "colab": {
          "base_uri": "https://localhost:8080/"
        },
        "id": "FFEg7qOULx_L",
        "outputId": "fbe8775c-d5e4-4722-c8ff-44aefd977d31"
      },
      "source": [
        "from google.colab import drive\r\n",
        "drive.mount('/content/drive')\r\n"
      ],
      "execution_count": null,
      "outputs": [
        {
          "output_type": "stream",
          "text": [
            "Mounted at /content/drive\n"
          ],
          "name": "stdout"
        }
      ]
    },
    {
      "cell_type": "markdown",
      "metadata": {
        "id": "VSp-BB-LML_X"
      },
      "source": [
        "Installing keras"
      ]
    },
    {
      "cell_type": "code",
      "metadata": {
        "id": "TM5SsijNMRa_"
      },
      "source": [
        "! pip install -q keras"
      ],
      "execution_count": null,
      "outputs": []
    },
    {
      "cell_type": "markdown",
      "metadata": {
        "id": "YgAyAvaEMWfa"
      },
      "source": [
        "All the required liberaries are imported along with the model used to transfer learning\r\n",
        "\r\n"
      ]
    },
    {
      "cell_type": "code",
      "metadata": {
        "id": "6RAebXEKMbL9"
      },
      "source": [
        "from tensorflow.keras.layers import Input, Lambda, Dense, Flatten,Conv2D\r\n",
        "from tensorflow.keras.models import Model\r\n",
        "from tensorflow.keras.applications.vgg19 import VGG19\r\n",
        "from tensorflow.keras.applications.resnet50 import preprocess_input\r\n",
        "from tensorflow.keras.preprocessing import image\r\n",
        "from tensorflow.keras.preprocessing.image import ImageDataGenerator,load_img\r\n",
        "from tensorflow.keras.models import Sequential\r\n",
        "import numpy as np\r\n",
        "from glob import glob\r\n",
        "import matplotlib.pyplot as plt"
      ],
      "execution_count": null,
      "outputs": []
    },
    {
      "cell_type": "markdown",
      "metadata": {
        "id": "PFHElvcIMhTL"
      },
      "source": [
        "Image is resized to dimensions as given below and path where data is placed is also provided\r\n",
        "\r\n",
        "\r\n"
      ]
    },
    {
      "cell_type": "code",
      "metadata": {
        "id": "_kDVW8zPMmlD"
      },
      "source": [
        "IMAGE_SIZE = [224, 224]\r\n",
        "\r\n",
        "train_path = '/content/drive/MyDrive/Colab Notebooks/cell_images/train'\r\n",
        "valid_path = '/content/drive/MyDrive/Colab Notebooks/cell_images/test'"
      ],
      "execution_count": null,
      "outputs": []
    },
    {
      "cell_type": "markdown",
      "metadata": {
        "id": "H36ma4B-MwWF"
      },
      "source": [
        "vgg19 deeplearnign model is being downloaded 1)Arguments- inputshape is added to 3 because it's a RGB image 2)weights - imagenet - means insted of random initialization weights are taken from imagenet. 3)include_top=False - means we are deleting or excluding top layers - means first and last layers."
      ]
    },
    {
      "cell_type": "code",
      "metadata": {
        "colab": {
          "base_uri": "https://localhost:8080/"
        },
        "id": "I339_LiGM0r4",
        "outputId": "08917f1d-7a4b-47cb-fc52-995a477170e0"
      },
      "source": [
        "vgg = VGG19(input_shape=IMAGE_SIZE + [3], weights='imagenet', include_top=False)"
      ],
      "execution_count": null,
      "outputs": [
        {
          "output_type": "stream",
          "text": [
            "Downloading data from https://storage.googleapis.com/tensorflow/keras-applications/vgg19/vgg19_weights_tf_dim_ordering_tf_kernels_notop.h5\n",
            "80142336/80134624 [==============================] - 0s 0us/step\n"
          ],
          "name": "stdout"
        }
      ]
    },
    {
      "cell_type": "markdown",
      "metadata": {
        "id": "p5mZLYDENeJ1"
      },
      "source": [
        "All the layers except first and last of vgg19 model are freezed because weights are already trained on similar dataset."
      ]
    },
    {
      "cell_type": "code",
      "metadata": {
        "id": "eXAYeSEJNf0E"
      },
      "source": [
        "for layer in vgg.layers:\r\n",
        "    layer.trainable = False"
      ],
      "execution_count": null,
      "outputs": []
    },
    {
      "cell_type": "markdown",
      "metadata": {
        "id": "pkXlSDfgNjWY"
      },
      "source": [
        "Folders is a list containing the paths of all the output classes. In our case there are 2 outputs - parasitized and uninfected."
      ]
    },
    {
      "cell_type": "code",
      "metadata": {
        "id": "_NeXZaG8Noqs"
      },
      "source": [
        "folders = glob('/content/drive/MyDrive/Colab Notebooks/cell_images/train/*')"
      ],
      "execution_count": null,
      "outputs": []
    },
    {
      "cell_type": "code",
      "metadata": {
        "colab": {
          "base_uri": "https://localhost:8080/"
        },
        "id": "Tp9xxb6eNxzU",
        "outputId": "77f9412e-bfc4-44f9-cfb8-c14eb7058664"
      },
      "source": [
        "folders"
      ],
      "execution_count": null,
      "outputs": [
        {
          "output_type": "execute_result",
          "data": {
            "text/plain": [
              "['/content/drive/MyDrive/Colab Notebooks/cell_images/train/Uninfected',\n",
              " '/content/drive/MyDrive/Colab Notebooks/cell_images/train/Parasite']"
            ]
          },
          "metadata": {
            "tags": []
          },
          "execution_count": 9
        }
      ]
    },
    {
      "cell_type": "markdown",
      "metadata": {
        "id": "O2beoTGFN3ci"
      },
      "source": [
        "second last layer weights are converted into a vector"
      ]
    },
    {
      "cell_type": "code",
      "metadata": {
        "id": "F0QyKWYlN4n1"
      },
      "source": [
        "x = Flatten()(vgg.output)"
      ],
      "execution_count": null,
      "outputs": []
    },
    {
      "cell_type": "markdown",
      "metadata": {
        "id": "NWPtPE7IN8wL"
      },
      "source": [
        "last layer is added after second last layer where length = length of folders list length, it's dense and with softmax activation."
      ]
    },
    {
      "cell_type": "code",
      "metadata": {
        "id": "iGvCoPs2OA2d"
      },
      "source": [
        "prediction = Dense(len(folders), activation='softmax')(x)\r\n",
        "model = Model(inputs=vgg.input, outputs=prediction)"
      ],
      "execution_count": null,
      "outputs": []
    },
    {
      "cell_type": "markdown",
      "metadata": {
        "id": "4rPceuV4OFgj"
      },
      "source": [
        "This function gives the complete structure of model"
      ]
    },
    {
      "cell_type": "code",
      "metadata": {
        "colab": {
          "base_uri": "https://localhost:8080/"
        },
        "id": "Mph-xZI7OJ3p",
        "outputId": "956cf398-fd8a-4b94-fc0f-b88a5147e5fa"
      },
      "source": [
        "model.summary()"
      ],
      "execution_count": null,
      "outputs": [
        {
          "output_type": "stream",
          "text": [
            "Model: \"model\"\n",
            "_________________________________________________________________\n",
            "Layer (type)                 Output Shape              Param #   \n",
            "=================================================================\n",
            "input_1 (InputLayer)         [(None, 224, 224, 3)]     0         \n",
            "_________________________________________________________________\n",
            "block1_conv1 (Conv2D)        (None, 224, 224, 64)      1792      \n",
            "_________________________________________________________________\n",
            "block1_conv2 (Conv2D)        (None, 224, 224, 64)      36928     \n",
            "_________________________________________________________________\n",
            "block1_pool (MaxPooling2D)   (None, 112, 112, 64)      0         \n",
            "_________________________________________________________________\n",
            "block2_conv1 (Conv2D)        (None, 112, 112, 128)     73856     \n",
            "_________________________________________________________________\n",
            "block2_conv2 (Conv2D)        (None, 112, 112, 128)     147584    \n",
            "_________________________________________________________________\n",
            "block2_pool (MaxPooling2D)   (None, 56, 56, 128)       0         \n",
            "_________________________________________________________________\n",
            "block3_conv1 (Conv2D)        (None, 56, 56, 256)       295168    \n",
            "_________________________________________________________________\n",
            "block3_conv2 (Conv2D)        (None, 56, 56, 256)       590080    \n",
            "_________________________________________________________________\n",
            "block3_conv3 (Conv2D)        (None, 56, 56, 256)       590080    \n",
            "_________________________________________________________________\n",
            "block3_conv4 (Conv2D)        (None, 56, 56, 256)       590080    \n",
            "_________________________________________________________________\n",
            "block3_pool (MaxPooling2D)   (None, 28, 28, 256)       0         \n",
            "_________________________________________________________________\n",
            "block4_conv1 (Conv2D)        (None, 28, 28, 512)       1180160   \n",
            "_________________________________________________________________\n",
            "block4_conv2 (Conv2D)        (None, 28, 28, 512)       2359808   \n",
            "_________________________________________________________________\n",
            "block4_conv3 (Conv2D)        (None, 28, 28, 512)       2359808   \n",
            "_________________________________________________________________\n",
            "block4_conv4 (Conv2D)        (None, 28, 28, 512)       2359808   \n",
            "_________________________________________________________________\n",
            "block4_pool (MaxPooling2D)   (None, 14, 14, 512)       0         \n",
            "_________________________________________________________________\n",
            "block5_conv1 (Conv2D)        (None, 14, 14, 512)       2359808   \n",
            "_________________________________________________________________\n",
            "block5_conv2 (Conv2D)        (None, 14, 14, 512)       2359808   \n",
            "_________________________________________________________________\n",
            "block5_conv3 (Conv2D)        (None, 14, 14, 512)       2359808   \n",
            "_________________________________________________________________\n",
            "block5_conv4 (Conv2D)        (None, 14, 14, 512)       2359808   \n",
            "_________________________________________________________________\n",
            "block5_pool (MaxPooling2D)   (None, 7, 7, 512)         0         \n",
            "_________________________________________________________________\n",
            "flatten (Flatten)            (None, 25088)             0         \n",
            "_________________________________________________________________\n",
            "dense (Dense)                (None, 2)                 50178     \n",
            "=================================================================\n",
            "Total params: 20,074,562\n",
            "Trainable params: 50,178\n",
            "Non-trainable params: 20,024,384\n",
            "_________________________________________________________________\n"
          ],
          "name": "stdout"
        }
      ]
    },
    {
      "cell_type": "markdown",
      "metadata": {
        "id": "NzNrz-bPOOtf"
      },
      "source": [
        "Now the model is compiled where optimizer(algorithm that updates weights in order to reach the global minimum of loss function) is adam, loss is of type categorical_crossentropy(based on probability of occuring of that output) and matrix is of type accuracy."
      ]
    },
    {
      "cell_type": "code",
      "metadata": {
        "id": "jxQ-NerQOS1_"
      },
      "source": [
        "model.compile(\r\n",
        "  loss='categorical_crossentropy',\r\n",
        "  optimizer='adam',\r\n",
        "  metrics=['accuracy']\r\n",
        ")"
      ],
      "execution_count": null,
      "outputs": []
    },
    {
      "cell_type": "markdown",
      "metadata": {
        "id": "Uw5q0SwvOWBR"
      },
      "source": [
        "ImageDataGenerator is a class in tensorflow responsible for labeling data to the name as of the folder in which it is present. It is also used for data augmentation and rescaling."
      ]
    },
    {
      "cell_type": "code",
      "metadata": {
        "id": "-9lKKXoCOZXR"
      },
      "source": [
        "from tensorflow.keras.preprocessing.image import ImageDataGenerator\r\n",
        "\r\n",
        "train_datagen = ImageDataGenerator(rescale = 1./255,\r\n",
        "                                   shear_range = 0.2,\r\n",
        "                                   zoom_range = 0.2,\r\n",
        "                                   horizontal_flip = True)\r\n",
        "\r\n",
        "test_datagen = ImageDataGenerator(rescale = 1./255)"
      ],
      "execution_count": null,
      "outputs": []
    },
    {
      "cell_type": "markdown",
      "metadata": {
        "id": "ksSg8agmOfpI"
      },
      "source": [
        "ImageDataGenerator is applied to create training set"
      ]
    },
    {
      "cell_type": "code",
      "metadata": {
        "colab": {
          "base_uri": "https://localhost:8080/"
        },
        "id": "pQboF3ejOim6",
        "outputId": "94194997-830c-417e-d7c5-ebe76984a829"
      },
      "source": [
        "training_set = train_datagen.flow_from_directory('/content/drive/MyDrive/Colab Notebooks/cell_images/train',\r\n",
        "                                                 target_size = (224, 224),\r\n",
        "                                                 batch_size = 32,\r\n",
        "                                                 class_mode = 'categorical')"
      ],
      "execution_count": null,
      "outputs": [
        {
          "output_type": "stream",
          "text": [
            "Found 416 images belonging to 2 classes.\n"
          ],
          "name": "stdout"
        }
      ]
    },
    {
      "cell_type": "code",
      "metadata": {
        "colab": {
          "base_uri": "https://localhost:8080/"
        },
        "id": "eVCI-pgNOqJx",
        "outputId": "88138705-bd59-4a86-ba28-1ed30f9ef900"
      },
      "source": [
        "training_set"
      ],
      "execution_count": null,
      "outputs": [
        {
          "output_type": "execute_result",
          "data": {
            "text/plain": [
              "<tensorflow.python.keras.preprocessing.image.DirectoryIterator at 0x7fbe41beda90>"
            ]
          },
          "metadata": {
            "tags": []
          },
          "execution_count": 16
        }
      ]
    },
    {
      "cell_type": "markdown",
      "metadata": {
        "id": "52Ta9VxeOud6"
      },
      "source": [
        "ImageDataGenerator is applied to create test set"
      ]
    },
    {
      "cell_type": "code",
      "metadata": {
        "colab": {
          "base_uri": "https://localhost:8080/"
        },
        "id": "hz9KwJneOvdS",
        "outputId": "a8abf423-ac2b-4d7d-ef8b-46705b8f1982"
      },
      "source": [
        "test_set = test_datagen.flow_from_directory('/content/drive/MyDrive/Colab Notebooks/cell_images/test',\r\n",
        "                                            target_size = (224, 224),\r\n",
        "                                            batch_size = 32,\r\n",
        "                                            class_mode = 'categorical')"
      ],
      "execution_count": null,
      "outputs": [
        {
          "output_type": "stream",
          "text": [
            "Found 134 images belonging to 2 classes.\n"
          ],
          "name": "stdout"
        }
      ]
    },
    {
      "cell_type": "markdown",
      "metadata": {
        "id": "frlXFbO5O8wf"
      },
      "source": [
        "Callback function if keras is used to save the best model during the training. If a model is accurate at certain epoch then the model is saved. "
      ]
    },
    {
      "cell_type": "code",
      "metadata": {
        "id": "jNxZnk61PPAV"
      },
      "source": [
        "from keras.callbacks import ModelCheckpoint\r\n",
        "model_path='/content/drive/My Drive/colab Notebooks/maleria_model/maleria_dl_model.h5'\r\n",
        "checkpoint = ModelCheckpoint(model_path, monitor='val_accuracy', verbose=1, save_best_only=True, mode='max')\r\n",
        "callbacks_list = [checkpoint]"
      ],
      "execution_count": null,
      "outputs": []
    },
    {
      "cell_type": "markdown",
      "metadata": {
        "id": "P5ArY2n0PUfm"
      },
      "source": [
        "Now the model is trained on the trainig_set. Validation or test_set is also provided so that the error or accuracy on test_set is calculated after every epoch."
      ]
    },
    {
      "cell_type": "code",
      "metadata": {
        "colab": {
          "base_uri": "https://localhost:8080/"
        },
        "id": "6I3zztjLPYG9",
        "outputId": "11319fe6-db5f-4d52-b06a-ef637810fd23"
      },
      "source": [
        "r = model.fit_generator(\r\n",
        "  training_set,\r\n",
        "  validation_data=test_set,\r\n",
        "  epochs=50,\r\n",
        "  steps_per_epoch=len(training_set),\r\n",
        "  validation_steps=len(test_set),\r\n",
        "  callbacks=callbacks_list\r\n",
        ")"
      ],
      "execution_count": null,
      "outputs": [
        {
          "output_type": "stream",
          "text": [
            "/usr/local/lib/python3.6/dist-packages/tensorflow/python/keras/engine/training.py:1844: UserWarning: `Model.fit_generator` is deprecated and will be removed in a future version. Please use `Model.fit`, which supports generators.\n",
            "  warnings.warn('`Model.fit_generator` is deprecated and '\n"
          ],
          "name": "stderr"
        },
        {
          "output_type": "stream",
          "text": [
            "Epoch 1/50\n",
            "13/13 [==============================] - 211s 16s/step - loss: 1.6248 - accuracy: 0.5085 - val_loss: 1.8414 - val_accuracy: 0.3657\n",
            "\n",
            "Epoch 00001: val_accuracy improved from -inf to 0.36567, saving model to /content/drive/My Drive/colab Notebooks/maleria_model/maleria_dl_model.h5\n",
            "Epoch 2/50\n",
            "13/13 [==============================] - 6s 445ms/step - loss: 0.6967 - accuracy: 0.6655 - val_loss: 0.5414 - val_accuracy: 0.7537\n",
            "\n",
            "Epoch 00002: val_accuracy improved from 0.36567 to 0.75373, saving model to /content/drive/My Drive/colab Notebooks/maleria_model/maleria_dl_model.h5\n",
            "Epoch 3/50\n",
            "13/13 [==============================] - 6s 452ms/step - loss: 0.4729 - accuracy: 0.7661 - val_loss: 0.6788 - val_accuracy: 0.6418\n",
            "\n",
            "Epoch 00003: val_accuracy did not improve from 0.75373\n",
            "Epoch 4/50\n",
            "13/13 [==============================] - 6s 454ms/step - loss: 0.3561 - accuracy: 0.8288 - val_loss: 0.4584 - val_accuracy: 0.7537\n",
            "\n",
            "Epoch 00004: val_accuracy did not improve from 0.75373\n",
            "Epoch 5/50\n",
            "13/13 [==============================] - 6s 443ms/step - loss: 0.3220 - accuracy: 0.8543 - val_loss: 0.4302 - val_accuracy: 0.7910\n",
            "\n",
            "Epoch 00005: val_accuracy improved from 0.75373 to 0.79104, saving model to /content/drive/My Drive/colab Notebooks/maleria_model/maleria_dl_model.h5\n",
            "Epoch 6/50\n",
            "13/13 [==============================] - 6s 447ms/step - loss: 0.3196 - accuracy: 0.8613 - val_loss: 0.3955 - val_accuracy: 0.8284\n",
            "\n",
            "Epoch 00006: val_accuracy improved from 0.79104 to 0.82836, saving model to /content/drive/My Drive/colab Notebooks/maleria_model/maleria_dl_model.h5\n",
            "Epoch 7/50\n",
            "13/13 [==============================] - 6s 444ms/step - loss: 0.2939 - accuracy: 0.8646 - val_loss: 0.5045 - val_accuracy: 0.7463\n",
            "\n",
            "Epoch 00007: val_accuracy did not improve from 0.82836\n",
            "Epoch 8/50\n",
            "13/13 [==============================] - 6s 455ms/step - loss: 0.2388 - accuracy: 0.9138 - val_loss: 0.3507 - val_accuracy: 0.8284\n",
            "\n",
            "Epoch 00008: val_accuracy did not improve from 0.82836\n",
            "Epoch 9/50\n",
            "13/13 [==============================] - 6s 444ms/step - loss: 0.2595 - accuracy: 0.9105 - val_loss: 0.3343 - val_accuracy: 0.8507\n",
            "\n",
            "Epoch 00009: val_accuracy improved from 0.82836 to 0.85075, saving model to /content/drive/My Drive/colab Notebooks/maleria_model/maleria_dl_model.h5\n",
            "Epoch 10/50\n",
            "13/13 [==============================] - 6s 448ms/step - loss: 0.2179 - accuracy: 0.9368 - val_loss: 0.3093 - val_accuracy: 0.8582\n",
            "\n",
            "Epoch 00010: val_accuracy improved from 0.85075 to 0.85821, saving model to /content/drive/My Drive/colab Notebooks/maleria_model/maleria_dl_model.h5\n",
            "Epoch 11/50\n",
            "13/13 [==============================] - 6s 451ms/step - loss: 0.2094 - accuracy: 0.9344 - val_loss: 0.3671 - val_accuracy: 0.8209\n",
            "\n",
            "Epoch 00011: val_accuracy did not improve from 0.85821\n",
            "Epoch 12/50\n",
            "13/13 [==============================] - 6s 456ms/step - loss: 0.2102 - accuracy: 0.9249 - val_loss: 0.3127 - val_accuracy: 0.8358\n",
            "\n",
            "Epoch 00012: val_accuracy did not improve from 0.85821\n",
            "Epoch 13/50\n",
            "13/13 [==============================] - 6s 443ms/step - loss: 0.2314 - accuracy: 0.9318 - val_loss: 0.3307 - val_accuracy: 0.8507\n",
            "\n",
            "Epoch 00013: val_accuracy did not improve from 0.85821\n",
            "Epoch 14/50\n",
            "13/13 [==============================] - 6s 447ms/step - loss: 0.2009 - accuracy: 0.9422 - val_loss: 0.7249 - val_accuracy: 0.6418\n",
            "\n",
            "Epoch 00014: val_accuracy did not improve from 0.85821\n",
            "Epoch 15/50\n",
            "13/13 [==============================] - 6s 447ms/step - loss: 0.2741 - accuracy: 0.8835 - val_loss: 0.2737 - val_accuracy: 0.9030\n",
            "\n",
            "Epoch 00015: val_accuracy improved from 0.85821 to 0.90299, saving model to /content/drive/My Drive/colab Notebooks/maleria_model/maleria_dl_model.h5\n",
            "Epoch 16/50\n",
            "13/13 [==============================] - 6s 450ms/step - loss: 0.1584 - accuracy: 0.9373 - val_loss: 0.5020 - val_accuracy: 0.7388\n",
            "\n",
            "Epoch 00016: val_accuracy did not improve from 0.90299\n",
            "Epoch 17/50\n",
            "13/13 [==============================] - 6s 458ms/step - loss: 0.1834 - accuracy: 0.9393 - val_loss: 0.3137 - val_accuracy: 0.8433\n",
            "\n",
            "Epoch 00017: val_accuracy did not improve from 0.90299\n",
            "Epoch 18/50\n",
            "13/13 [==============================] - 6s 445ms/step - loss: 0.2190 - accuracy: 0.9071 - val_loss: 0.3527 - val_accuracy: 0.8134\n",
            "\n",
            "Epoch 00018: val_accuracy did not improve from 0.90299\n",
            "Epoch 19/50\n",
            "13/13 [==============================] - 6s 447ms/step - loss: 0.2156 - accuracy: 0.9074 - val_loss: 0.2821 - val_accuracy: 0.8731\n",
            "\n",
            "Epoch 00019: val_accuracy did not improve from 0.90299\n",
            "Epoch 20/50\n",
            "13/13 [==============================] - 6s 446ms/step - loss: 0.1940 - accuracy: 0.9370 - val_loss: 0.3489 - val_accuracy: 0.8284\n",
            "\n",
            "Epoch 00020: val_accuracy did not improve from 0.90299\n",
            "Epoch 21/50\n",
            "13/13 [==============================] - 6s 446ms/step - loss: 0.1962 - accuracy: 0.9315 - val_loss: 0.2605 - val_accuracy: 0.8881\n",
            "\n",
            "Epoch 00021: val_accuracy did not improve from 0.90299\n",
            "Epoch 22/50\n",
            "13/13 [==============================] - 6s 450ms/step - loss: 0.1465 - accuracy: 0.9441 - val_loss: 0.2715 - val_accuracy: 0.8806\n",
            "\n",
            "Epoch 00022: val_accuracy did not improve from 0.90299\n",
            "Epoch 23/50\n",
            "13/13 [==============================] - 6s 444ms/step - loss: 0.1138 - accuracy: 0.9633 - val_loss: 0.2290 - val_accuracy: 0.9328\n",
            "\n",
            "Epoch 00023: val_accuracy improved from 0.90299 to 0.93284, saving model to /content/drive/My Drive/colab Notebooks/maleria_model/maleria_dl_model.h5\n",
            "Epoch 24/50\n",
            "13/13 [==============================] - 6s 460ms/step - loss: 0.1464 - accuracy: 0.9458 - val_loss: 0.3059 - val_accuracy: 0.8507\n",
            "\n",
            "Epoch 00024: val_accuracy did not improve from 0.93284\n",
            "Epoch 25/50\n",
            "13/13 [==============================] - 6s 462ms/step - loss: 0.1192 - accuracy: 0.9551 - val_loss: 0.2300 - val_accuracy: 0.9179\n",
            "\n",
            "Epoch 00025: val_accuracy did not improve from 0.93284\n",
            "Epoch 26/50\n",
            "13/13 [==============================] - 6s 447ms/step - loss: 0.1178 - accuracy: 0.9797 - val_loss: 0.4099 - val_accuracy: 0.7836\n",
            "\n",
            "Epoch 00026: val_accuracy did not improve from 0.93284\n",
            "Epoch 27/50\n",
            "13/13 [==============================] - 6s 445ms/step - loss: 0.1207 - accuracy: 0.9590 - val_loss: 0.4225 - val_accuracy: 0.7761\n",
            "\n",
            "Epoch 00027: val_accuracy did not improve from 0.93284\n",
            "Epoch 28/50\n",
            "13/13 [==============================] - 6s 448ms/step - loss: 0.1351 - accuracy: 0.9610 - val_loss: 0.2142 - val_accuracy: 0.9254\n",
            "\n",
            "Epoch 00028: val_accuracy did not improve from 0.93284\n",
            "Epoch 29/50\n",
            "13/13 [==============================] - 6s 451ms/step - loss: 0.1264 - accuracy: 0.9598 - val_loss: 0.2985 - val_accuracy: 0.8731\n",
            "\n",
            "Epoch 00029: val_accuracy did not improve from 0.93284\n",
            "Epoch 30/50\n",
            "13/13 [==============================] - 6s 454ms/step - loss: 0.1353 - accuracy: 0.9442 - val_loss: 0.2358 - val_accuracy: 0.9030\n",
            "\n",
            "Epoch 00030: val_accuracy did not improve from 0.93284\n",
            "Epoch 31/50\n",
            "13/13 [==============================] - 6s 456ms/step - loss: 0.0857 - accuracy: 0.9859 - val_loss: 0.3610 - val_accuracy: 0.8134\n",
            "\n",
            "Epoch 00031: val_accuracy did not improve from 0.93284\n",
            "Epoch 32/50\n",
            "13/13 [==============================] - 6s 451ms/step - loss: 0.1309 - accuracy: 0.9537 - val_loss: 0.2303 - val_accuracy: 0.9179\n",
            "\n",
            "Epoch 00032: val_accuracy did not improve from 0.93284\n",
            "Epoch 33/50\n",
            "13/13 [==============================] - 6s 448ms/step - loss: 0.1036 - accuracy: 0.9787 - val_loss: 0.2307 - val_accuracy: 0.9179\n",
            "\n",
            "Epoch 00033: val_accuracy did not improve from 0.93284\n",
            "Epoch 34/50\n",
            "13/13 [==============================] - 6s 449ms/step - loss: 0.1305 - accuracy: 0.9392 - val_loss: 0.3484 - val_accuracy: 0.8209\n",
            "\n",
            "Epoch 00034: val_accuracy did not improve from 0.93284\n",
            "Epoch 35/50\n",
            "13/13 [==============================] - 6s 451ms/step - loss: 0.1186 - accuracy: 0.9502 - val_loss: 0.1967 - val_accuracy: 0.9179\n",
            "\n",
            "Epoch 00035: val_accuracy did not improve from 0.93284\n",
            "Epoch 36/50\n",
            "13/13 [==============================] - 6s 451ms/step - loss: 0.1037 - accuracy: 0.9562 - val_loss: 0.1920 - val_accuracy: 0.9179\n",
            "\n",
            "Epoch 00036: val_accuracy did not improve from 0.93284\n",
            "Epoch 37/50\n",
            "13/13 [==============================] - 6s 451ms/step - loss: 0.0769 - accuracy: 0.9770 - val_loss: 0.2779 - val_accuracy: 0.8657\n",
            "\n",
            "Epoch 00037: val_accuracy did not improve from 0.93284\n",
            "Epoch 38/50\n",
            "13/13 [==============================] - 6s 449ms/step - loss: 0.1070 - accuracy: 0.9619 - val_loss: 0.2424 - val_accuracy: 0.8955\n",
            "\n",
            "Epoch 00038: val_accuracy did not improve from 0.93284\n",
            "Epoch 39/50\n",
            "13/13 [==============================] - 6s 448ms/step - loss: 0.1024 - accuracy: 0.9691 - val_loss: 0.2006 - val_accuracy: 0.9104\n",
            "\n",
            "Epoch 00039: val_accuracy did not improve from 0.93284\n",
            "Epoch 40/50\n",
            "13/13 [==============================] - 6s 449ms/step - loss: 0.0843 - accuracy: 0.9771 - val_loss: 0.4064 - val_accuracy: 0.8060\n",
            "\n",
            "Epoch 00040: val_accuracy did not improve from 0.93284\n",
            "Epoch 41/50\n",
            "13/13 [==============================] - 6s 462ms/step - loss: 0.0779 - accuracy: 0.9802 - val_loss: 0.1887 - val_accuracy: 0.9478\n",
            "\n",
            "Epoch 00041: val_accuracy improved from 0.93284 to 0.94776, saving model to /content/drive/My Drive/colab Notebooks/maleria_model/maleria_dl_model.h5\n",
            "Epoch 42/50\n",
            "13/13 [==============================] - 6s 460ms/step - loss: 0.1058 - accuracy: 0.9645 - val_loss: 0.2378 - val_accuracy: 0.9030\n",
            "\n",
            "Epoch 00042: val_accuracy did not improve from 0.94776\n",
            "Epoch 43/50\n",
            "13/13 [==============================] - 6s 467ms/step - loss: 0.0999 - accuracy: 0.9662 - val_loss: 0.2066 - val_accuracy: 0.9254\n",
            "\n",
            "Epoch 00043: val_accuracy did not improve from 0.94776\n",
            "Epoch 44/50\n",
            "13/13 [==============================] - 6s 450ms/step - loss: 0.0740 - accuracy: 0.9823 - val_loss: 0.1687 - val_accuracy: 0.9403\n",
            "\n",
            "Epoch 00044: val_accuracy did not improve from 0.94776\n",
            "Epoch 45/50\n",
            "13/13 [==============================] - 6s 451ms/step - loss: 0.0835 - accuracy: 0.9842 - val_loss: 0.1933 - val_accuracy: 0.9328\n",
            "\n",
            "Epoch 00045: val_accuracy did not improve from 0.94776\n",
            "Epoch 46/50\n",
            "13/13 [==============================] - 6s 450ms/step - loss: 0.0883 - accuracy: 0.9847 - val_loss: 0.3891 - val_accuracy: 0.8209\n",
            "\n",
            "Epoch 00046: val_accuracy did not improve from 0.94776\n",
            "Epoch 47/50\n",
            "13/13 [==============================] - 6s 457ms/step - loss: 0.0613 - accuracy: 0.9741 - val_loss: 0.1707 - val_accuracy: 0.9552\n",
            "\n",
            "Epoch 00047: val_accuracy improved from 0.94776 to 0.95522, saving model to /content/drive/My Drive/colab Notebooks/maleria_model/maleria_dl_model.h5\n",
            "Epoch 48/50\n",
            "13/13 [==============================] - 6s 459ms/step - loss: 0.1080 - accuracy: 0.9645 - val_loss: 0.2145 - val_accuracy: 0.9254\n",
            "\n",
            "Epoch 00048: val_accuracy did not improve from 0.95522\n",
            "Epoch 49/50\n",
            "13/13 [==============================] - 6s 468ms/step - loss: 0.0731 - accuracy: 0.9743 - val_loss: 0.6533 - val_accuracy: 0.7090\n",
            "\n",
            "Epoch 00049: val_accuracy did not improve from 0.95522\n",
            "Epoch 50/50\n",
            "13/13 [==============================] - 6s 450ms/step - loss: 0.0991 - accuracy: 0.9592 - val_loss: 0.1840 - val_accuracy: 0.9254\n",
            "\n",
            "Epoch 00050: val_accuracy did not improve from 0.95522\n"
          ],
          "name": "stdout"
        }
      ]
    },
    {
      "cell_type": "code",
      "metadata": {
        "colab": {
          "base_uri": "https://localhost:8080/",
          "height": 530
        },
        "id": "Xfd0TWIESYHA",
        "outputId": "20e43455-a042-4ad1-a030-9c11a72435d0"
      },
      "source": [
        "# plot the loss\r\n",
        "plt.plot(r.history['loss'], label='train loss')\r\n",
        "plt.plot(r.history['val_loss'], label='val loss')\r\n",
        "plt.legend()\r\n",
        "plt.show()\r\n",
        "plt.savefig('LossVal_loss')\r\n",
        "\r\n",
        "# plot the accuracy\r\n",
        "plt.plot(r.history['accuracy'], label='train acc')\r\n",
        "plt.plot(r.history['val_accuracy'], label='val acc')\r\n",
        "plt.legend()\r\n",
        "plt.show()\r\n",
        "plt.savefig('AccVal_acc')"
      ],
      "execution_count": null,
      "outputs": [
        {
          "output_type": "display_data",
          "data": {
            "image/png": "[encoded data removed]",
            "text/plain": [
              "<Figure size 432x288 with 1 Axes>"
            ]
          },
          "metadata": {
            "tags": [],
            "needs_background": "light"
          }
        },
        {
          "output_type": "display_data",
          "data": {
            "image/png": "[encoded data removed]",
            "text/plain": [
              "<Figure size 432x288 with 1 Axes>"
            ]
          },
          "metadata": {
            "tags": [],
            "needs_background": "light"
          }
        },
        {
          "output_type": "display_data",
          "data": {
            "text/plain": [
              "<Figure size 432x288 with 0 Axes>"
            ]
          },
          "metadata": {
            "tags": []
          }
        }
      ]
    },
    {
      "cell_type": "markdown",
      "metadata": {
        "id": "OGu913BETGG4"
      },
      "source": [
        "Model was saved during the training process by using callback functionality.\r\n",
        "Here the probability of belonging to a certain class of test_set images are predicted by using the trained model. \"model\" is an inbuilt class of keras."
      ]
    },
    {
      "cell_type": "markdown",
      "metadata": {
        "id": "gTPOvjSLVoao"
      },
      "source": [
        "If the model would'nt be saved during the training by using callback then we would have saved it by below code "
      ]
    },
    {
      "cell_type": "code",
      "metadata": {
        "id": "C2O_oe04WBIA"
      },
      "source": [
        "#from tensorflow.keras.models import load_model\r\n",
        "\r\n",
        "#model.save('model_vgg19.h5')"
      ],
      "execution_count": null,
      "outputs": []
    },
    {
      "cell_type": "code",
      "metadata": {
        "id": "5H124ag8Slwt"
      },
      "source": [
        "y_pred = model.predict(test_set)"
      ],
      "execution_count": null,
      "outputs": []
    },
    {
      "cell_type": "code",
      "metadata": {
        "colab": {
          "base_uri": "https://localhost:8080/"
        },
        "id": "5cbTUwJ2S51b",
        "outputId": "0b55e277-60b8-4ccc-f2b9-3c864222f7e5"
      },
      "source": [
        "y_pred"
      ],
      "execution_count": null,
      "outputs": [
        {
          "output_type": "execute_result",
          "data": {
            "text/plain": [
              "array([[9.99959350e-01, 4.06089748e-05],\n",
              "       [2.00435355e-01, 7.99564660e-01],\n",
              "       [1.02833949e-01, 8.97166014e-01],\n",
              "       [9.99766171e-01, 2.33882820e-04],\n",
              "       [2.32374743e-01, 7.67625272e-01],\n",
              "       [9.99950290e-01, 4.97457877e-05],\n",
              "       [9.99633431e-01, 3.66585678e-04],\n",
              "       [6.11448288e-02, 9.38855171e-01],\n",
              "       [9.95926917e-01, 4.07303637e-03],\n",
              "       [4.08008307e-01, 5.91991663e-01],\n",
              "       [8.36828828e-01, 1.63171172e-01],\n",
              "       [9.99919891e-01, 8.00889175e-05],\n",
              "       [9.99847651e-01, 1.52271095e-04],\n",
              "       [4.67558146e-01, 5.32441854e-01],\n",
              "       [9.97947395e-01, 2.05265149e-03],\n",
              "       [9.97807086e-01, 2.19296385e-03],\n",
              "       [7.08319902e-01, 2.91680068e-01],\n",
              "       [9.99996781e-01, 3.17885861e-06],\n",
              "       [9.99308467e-01, 6.91521389e-04],\n",
              "       [9.95094776e-01, 4.90520755e-03],\n",
              "       [9.99996781e-01, 3.19806395e-06],\n",
              "       [2.32990131e-01, 7.67009854e-01],\n",
              "       [4.76132005e-01, 5.23867965e-01],\n",
              "       [8.93621743e-01, 1.06378287e-01],\n",
              "       [8.40336233e-02, 9.15966392e-01],\n",
              "       [9.95399296e-01, 4.60075960e-03],\n",
              "       [9.99924183e-01, 7.57984308e-05],\n",
              "       [1.90168992e-01, 8.09831023e-01],\n",
              "       [9.99822676e-01, 1.77295384e-04],\n",
              "       [2.10677773e-01, 7.89322197e-01],\n",
              "       [1.09765351e-01, 8.90234649e-01],\n",
              "       [9.88498151e-01, 1.15017872e-02],\n",
              "       [9.93886530e-01, 6.11348590e-03],\n",
              "       [1.12474598e-02, 9.88752544e-01],\n",
              "       [3.20085794e-01, 6.79914176e-01],\n",
              "       [6.35889247e-02, 9.36411023e-01],\n",
              "       [9.99634266e-01, 3.65715328e-04],\n",
              "       [9.95463908e-01, 4.53604944e-03],\n",
              "       [9.99248803e-01, 7.51201820e-04],\n",
              "       [9.99404669e-01, 5.95331017e-04],\n",
              "       [9.73968565e-01, 2.60314904e-02],\n",
              "       [1.66502967e-01, 8.33497107e-01],\n",
              "       [9.99549568e-01, 4.50368359e-04],\n",
              "       [8.21450889e-01, 1.78549096e-01],\n",
              "       [9.55201268e-01, 4.47987951e-02],\n",
              "       [8.30437899e-01, 1.69562101e-01],\n",
              "       [6.21188879e-02, 9.37881172e-01],\n",
              "       [9.74940896e-01, 2.50590499e-02],\n",
              "       [8.03530067e-02, 9.19646978e-01],\n",
              "       [9.99744713e-01, 2.55319552e-04],\n",
              "       [9.46729124e-01, 5.32708466e-02],\n",
              "       [7.84801602e-01, 2.15198323e-01],\n",
              "       [4.69436079e-01, 5.30563891e-01],\n",
              "       [7.46868923e-02, 9.25313056e-01],\n",
              "       [9.32406306e-01, 6.75936490e-02],\n",
              "       [9.99989271e-01, 1.07833430e-05],\n",
              "       [2.05878824e-01, 7.94121206e-01],\n",
              "       [1.01443045e-01, 8.98556948e-01],\n",
              "       [8.82908255e-02, 9.11709189e-01],\n",
              "       [2.13725165e-01, 7.86274791e-01],\n",
              "       [6.03278391e-02, 9.39672112e-01],\n",
              "       [1.36892796e-01, 8.63107204e-01],\n",
              "       [1.00000000e+00, 1.81065172e-08],\n",
              "       [9.43847299e-01, 5.61527498e-02],\n",
              "       [9.49312031e-01, 5.06879315e-02],\n",
              "       [2.03074947e-01, 7.96925008e-01],\n",
              "       [9.94220972e-01, 5.77904889e-03],\n",
              "       [7.86982417e-01, 2.13017508e-01],\n",
              "       [6.13317370e-01, 3.86682659e-01],\n",
              "       [3.38983238e-01, 6.61016762e-01],\n",
              "       [9.99977231e-01, 2.28159824e-05],\n",
              "       [8.03339303e-01, 1.96660727e-01],\n",
              "       [9.14817274e-01, 8.51827040e-02],\n",
              "       [2.78894931e-01, 7.21105039e-01],\n",
              "       [2.32127950e-01, 7.67872036e-01],\n",
              "       [9.85878885e-01, 1.41210919e-02],\n",
              "       [3.04937977e-02, 9.69506204e-01],\n",
              "       [8.95281792e-01, 1.04718164e-01],\n",
              "       [9.13316846e-01, 8.66831541e-02],\n",
              "       [9.99928474e-01, 7.14811467e-05],\n",
              "       [9.40682948e-01, 5.93170412e-02],\n",
              "       [4.44996804e-02, 9.55500364e-01],\n",
              "       [7.27384984e-01, 2.72614986e-01],\n",
              "       [9.45976675e-01, 5.40233254e-02],\n",
              "       [9.99268591e-01, 7.31447537e-04],\n",
              "       [9.99757230e-01, 2.42715090e-04],\n",
              "       [9.99967456e-01, 3.25838228e-05],\n",
              "       [7.61818588e-02, 9.23818171e-01],\n",
              "       [8.26329947e-01, 1.73670039e-01],\n",
              "       [7.20655695e-02, 9.27934408e-01],\n",
              "       [9.99520898e-01, 4.79122071e-04],\n",
              "       [8.95689070e-01, 1.04310945e-01],\n",
              "       [4.11900617e-02, 9.58809912e-01],\n",
              "       [9.92184699e-01, 7.81529769e-03],\n",
              "       [3.08544431e-02, 9.69145536e-01],\n",
              "       [1.55348733e-01, 8.44651282e-01],\n",
              "       [9.99990582e-01, 9.44156636e-06],\n",
              "       [1.87476233e-01, 8.12523723e-01],\n",
              "       [9.96758401e-01, 3.24164215e-03],\n",
              "       [9.99954104e-01, 4.58402938e-05],\n",
              "       [9.99873996e-01, 1.26027240e-04],\n",
              "       [9.82226133e-01, 1.77738201e-02],\n",
              "       [9.93031859e-01, 6.96817925e-03],\n",
              "       [8.88487160e-01, 1.11512877e-01],\n",
              "       [7.68134534e-01, 2.31865540e-01],\n",
              "       [9.81136039e-02, 9.01886404e-01],\n",
              "       [1.59294382e-01, 8.40705633e-01],\n",
              "       [1.00000000e+00, 9.71776348e-09],\n",
              "       [2.52169222e-01, 7.47830808e-01],\n",
              "       [9.10697758e-01, 8.93022269e-02],\n",
              "       [8.73745829e-02, 9.12625372e-01],\n",
              "       [1.41709700e-01, 8.58290255e-01],\n",
              "       [9.99998808e-01, 1.24837811e-06],\n",
              "       [5.11089191e-02, 9.48891103e-01],\n",
              "       [2.53376871e-01, 7.46623099e-01],\n",
              "       [9.99999523e-01, 4.32539707e-07],\n",
              "       [7.39129335e-02, 9.26087081e-01],\n",
              "       [6.34418130e-01, 3.65581810e-01],\n",
              "       [8.95831943e-01, 1.04168057e-01],\n",
              "       [8.00849378e-01, 1.99150637e-01],\n",
              "       [9.99935269e-01, 6.47750421e-05],\n",
              "       [9.52023149e-01, 4.79768366e-02],\n",
              "       [8.57568562e-01, 1.42431408e-01],\n",
              "       [7.78312206e-01, 2.21687794e-01],\n",
              "       [7.87855148e-01, 2.12144837e-01],\n",
              "       [5.49048148e-02, 9.45095181e-01],\n",
              "       [1.40768483e-01, 8.59231532e-01],\n",
              "       [9.99897361e-01, 1.02682388e-04],\n",
              "       [9.98242617e-01, 1.75737939e-03],\n",
              "       [9.99955416e-01, 4.45252190e-05],\n",
              "       [2.49105379e-01, 7.50894606e-01],\n",
              "       [9.92483318e-01, 7.51669751e-03],\n",
              "       [1.43942177e-01, 8.56057823e-01],\n",
              "       [3.04582477e-01, 6.95417523e-01]], dtype=float32)"
            ]
          },
          "metadata": {
            "tags": []
          },
          "execution_count": 24
        }
      ]
    },
    {
      "cell_type": "markdown",
      "metadata": {
        "id": "npujvr-0T7Dm"
      },
      "source": [
        "Now based on probability the images are labeled either 1 or 0. The output is saved in y_pred as we did in the above code snippet "
      ]
    },
    {
      "cell_type": "code",
      "metadata": {
        "id": "tnypRcT6UHGS"
      },
      "source": [
        "import numpy as np\r\n",
        "y_pred = np.argmax(y_pred, axis=1)"
      ],
      "execution_count": null,
      "outputs": []
    },
    {
      "cell_type": "code",
      "metadata": {
        "colab": {
          "base_uri": "https://localhost:8080/"
        },
        "id": "PGaxZ1wlUVbd",
        "outputId": "011eb3cf-c433-420d-ad32-aedebcde5bd5"
      },
      "source": [
        "y_pred"
      ],
      "execution_count": null,
      "outputs": [
        {
          "output_type": "execute_result",
          "data": {
            "text/plain": [
              "array([0, 1, 1, 0, 1, 0, 0, 1, 0, 1, 0, 0, 0, 1, 0, 0, 0, 0, 0, 0, 0, 1,\n",
              "       1, 0, 1, 0, 0, 1, 0, 1, 1, 0, 0, 1, 1, 1, 0, 0, 0, 0, 0, 1, 0, 0,\n",
              "       0, 0, 1, 0, 1, 0, 0, 0, 1, 1, 0, 0, 1, 1, 1, 1, 1, 1, 0, 0, 0, 1,\n",
              "       0, 0, 0, 1, 0, 0, 0, 1, 1, 0, 1, 0, 0, 0, 0, 1, 0, 0, 0, 0, 0, 1,\n",
              "       0, 1, 0, 0, 1, 0, 1, 1, 0, 1, 0, 0, 0, 0, 0, 0, 0, 1, 1, 0, 1, 0,\n",
              "       1, 1, 0, 1, 1, 0, 1, 0, 0, 0, 0, 0, 0, 0, 0, 1, 1, 0, 0, 0, 1, 0,\n",
              "       1, 1])"
            ]
          },
          "metadata": {
            "tags": []
          },
          "execution_count": 26
        }
      ]
    },
    {
      "cell_type": "markdown",
      "metadata": {
        "id": "6dqF1YhEaxoJ"
      },
      "source": [
        "\r\n",
        "Image is imported from test set."
      ]
    },
    {
      "cell_type": "code",
      "metadata": {
        "id": "4mHNxvMiUcdJ"
      },
      "source": [
        "from tensorflow.keras.preprocessing import image\r\n",
        "img=image.load_img('/content/drive/MyDrive/Colab Notebooks/cell_images/test/Uninfected/2.png',target_size=(224,224))"
      ],
      "execution_count": null,
      "outputs": []
    },
    {
      "cell_type": "markdown",
      "metadata": {
        "id": "vEEwElRgbCXh"
      },
      "source": [
        "The image which will be given as input is preprocessed"
      ]
    },
    {
      "cell_type": "code",
      "metadata": {
        "colab": {
          "base_uri": "https://localhost:8080/"
        },
        "id": "i65h6Rp7U3ll",
        "outputId": "c5f18f6a-cbac-4277-9ca4-202846fa358f"
      },
      "source": [
        "x=image.img_to_array(img)\r\n",
        "x"
      ],
      "execution_count": null,
      "outputs": [
        {
          "output_type": "execute_result",
          "data": {
            "text/plain": [
              "array([[[0., 0., 0.],\n",
              "        [0., 0., 0.],\n",
              "        [0., 0., 0.],\n",
              "        ...,\n",
              "        [0., 0., 0.],\n",
              "        [0., 0., 0.],\n",
              "        [0., 0., 0.]],\n",
              "\n",
              "       [[0., 0., 0.],\n",
              "        [0., 0., 0.],\n",
              "        [0., 0., 0.],\n",
              "        ...,\n",
              "        [0., 0., 0.],\n",
              "        [0., 0., 0.],\n",
              "        [0., 0., 0.]],\n",
              "\n",
              "       [[0., 0., 0.],\n",
              "        [0., 0., 0.],\n",
              "        [0., 0., 0.],\n",
              "        ...,\n",
              "        [0., 0., 0.],\n",
              "        [0., 0., 0.],\n",
              "        [0., 0., 0.]],\n",
              "\n",
              "       ...,\n",
              "\n",
              "       [[0., 0., 0.],\n",
              "        [0., 0., 0.],\n",
              "        [0., 0., 0.],\n",
              "        ...,\n",
              "        [0., 0., 0.],\n",
              "        [0., 0., 0.],\n",
              "        [0., 0., 0.]],\n",
              "\n",
              "       [[0., 0., 0.],\n",
              "        [0., 0., 0.],\n",
              "        [0., 0., 0.],\n",
              "        ...,\n",
              "        [0., 0., 0.],\n",
              "        [0., 0., 0.],\n",
              "        [0., 0., 0.]],\n",
              "\n",
              "       [[0., 0., 0.],\n",
              "        [0., 0., 0.],\n",
              "        [0., 0., 0.],\n",
              "        ...,\n",
              "        [0., 0., 0.],\n",
              "        [0., 0., 0.],\n",
              "        [0., 0., 0.]]], dtype=float32)"
            ]
          },
          "metadata": {
            "tags": []
          },
          "execution_count": 28
        }
      ]
    },
    {
      "cell_type": "code",
      "metadata": {
        "colab": {
          "base_uri": "https://localhost:8080/"
        },
        "id": "-5ZjpcVWU6Cs",
        "outputId": "6eafbc78-3bf9-47d7-f3dd-47f384e9ac35"
      },
      "source": [
        "x.shape"
      ],
      "execution_count": null,
      "outputs": [
        {
          "output_type": "execute_result",
          "data": {
            "text/plain": [
              "(224, 224, 3)"
            ]
          },
          "metadata": {
            "tags": []
          },
          "execution_count": 29
        }
      ]
    },
    {
      "cell_type": "code",
      "metadata": {
        "id": "fyNfEkl8VBQm"
      },
      "source": [
        "x=x/255"
      ],
      "execution_count": null,
      "outputs": []
    },
    {
      "cell_type": "code",
      "metadata": {
        "colab": {
          "base_uri": "https://localhost:8080/"
        },
        "id": "fK_UWR_1VC86",
        "outputId": "0e036c09-8fc6-4dc6-e2fb-9a08a01875e6"
      },
      "source": [
        "x=np.expand_dims(x,axis=0)\r\n",
        "img_data=preprocess_input(x)\r\n",
        "img_data.shape"
      ],
      "execution_count": null,
      "outputs": [
        {
          "output_type": "execute_result",
          "data": {
            "text/plain": [
              "(1, 224, 224, 3)"
            ]
          },
          "metadata": {
            "tags": []
          },
          "execution_count": 31
        }
      ]
    },
    {
      "cell_type": "markdown",
      "metadata": {
        "id": "VNUbhj47bZVZ"
      },
      "source": [
        "Below code snippet is loading the trained model that we saved above. This step is not needed in some frameworks."
      ]
    },
    {
      "cell_type": "code",
      "metadata": {
        "id": "gke29lgKWjAo"
      },
      "source": [
        "from tensorflow.keras.models import load_model\r\n",
        "model=load_model('/content/drive/My Drive/colab Notebooks/maleria_model/maleria_dl_model.h5')"
      ],
      "execution_count": null,
      "outputs": []
    },
    {
      "cell_type": "code",
      "metadata": {
        "colab": {
          "base_uri": "https://localhost:8080/"
        },
        "id": "rUsApAM9VIli",
        "outputId": "f1b01694-fc5f-4d6e-eded-b82b3a1443b0"
      },
      "source": [
        "model.predict(img_data)"
      ],
      "execution_count": null,
      "outputs": [
        {
          "output_type": "execute_result",
          "data": {
            "text/plain": [
              "array([[0.00350976, 0.9964902 ]], dtype=float32)"
            ]
          },
          "metadata": {
            "tags": []
          },
          "execution_count": 37
        }
      ]
    },
    {
      "cell_type": "markdown",
      "metadata": {
        "id": "V_zig6TRaRC4"
      },
      "source": [
        "converting the prob to either 0 or 1. In case of muticlass classification we use one-hot encoding."
      ]
    },
    {
      "cell_type": "code",
      "metadata": {
        "id": "idxNfPMEVRlE"
      },
      "source": [
        "a=np.argmax(model.predict(img_data), axis=1)"
      ],
      "execution_count": null,
      "outputs": []
    },
    {
      "cell_type": "code",
      "metadata": {
        "colab": {
          "base_uri": "https://localhost:8080/"
        },
        "id": "RcZUid7zVTNg",
        "outputId": "bd3b244a-9f40-4f06-effa-c39d5768fe4b"
      },
      "source": [
        "if(a==1):\r\n",
        "    print(\"Uninfected\")\r\n",
        "else:\r\n",
        "    print(\"Infected\")"
      ],
      "execution_count": null,
      "outputs": [
        {
          "output_type": "stream",
          "text": [
            "Uninfected\n"
          ],
          "name": "stdout"
        }
      ]
    },
    {
      "cell_type": "markdown",
      "metadata": {
        "id": "HcZ7zXL5ViiO"
      },
      "source": [
        ""
      ]
    }
  ]
}